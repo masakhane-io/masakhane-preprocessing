{
 "cells": [
  {
   "cell_type": "markdown",
   "metadata": {},
   "source": [
    "# Building Stop Word List from Monolingual Data"
   ]
  },
  {
   "cell_type": "code",
   "execution_count": 184,
   "metadata": {},
   "outputs": [],
   "source": [
    "# First import preprocesser and clean the data\n",
    "# we will use the Masakhane Preprocessor.\n",
    "from preprocess import Preprocessor\n",
    "\n",
    "my_prep = Preprocessor(lang='am', strip_punctuation=True, strip_symbols=True)"
   ]
  },
  {
   "cell_type": "code",
   "execution_count": 177,
   "metadata": {},
   "outputs": [],
   "source": [
    "import os\n",
    "import pandas as pd\n",
    "def get_monolingual_data(path):\n",
    "    \"\"\"\n",
    "    A function to get read the monolingal data in the provided path. \n",
    "\n",
    "    Param: \n",
    "    path: the path to the monolingual data\n",
    "\n",
    "    Returns:\n",
    "    corpus: a list of strings of each of the text read from the monolingual files.     \n",
    "    \n",
    "    \"\"\"\n",
    "    corpus=[]\n",
    "    for root, dir, files in os.walk(path):\n",
    "        corpus=[]\n",
    "        for file in files:\n",
    "            corpus.append(open(os.path.join(root,file), 'r').read())\n",
    "    return corpus\n"
   ]
  },
  {
   "cell_type": "code",
   "execution_count": 178,
   "metadata": {},
   "outputs": [],
   "source": [
    "# we will then call the baove function by providing the path to our data.\n",
    "corpus=get_monolingual_data('/home/hellina/NLP/Tools/corpra/am')"
   ]
  },
  {
   "cell_type": "code",
   "execution_count": 179,
   "metadata": {},
   "outputs": [],
   "source": [
    "# we will now create a dataframe to hold the monolingual data and we will populate the other columns through the notebook.\n",
    "corpra_df=pd.DataFrame(columns=['Text', 'Clean Text', 'Words', 'Top Words'])\n",
    "corpra_df[\"Text\"]=corpus"
   ]
  },
  {
   "cell_type": "code",
   "execution_count": 180,
   "metadata": {},
   "outputs": [
    {
     "data": {
      "text/html": [
       "<div>\n",
       "<style scoped>\n",
       "    .dataframe tbody tr th:only-of-type {\n",
       "        vertical-align: middle;\n",
       "    }\n",
       "\n",
       "    .dataframe tbody tr th {\n",
       "        vertical-align: top;\n",
       "    }\n",
       "\n",
       "    .dataframe thead th {\n",
       "        text-align: right;\n",
       "    }\n",
       "</style>\n",
       "<table border=\"1\" class=\"dataframe\">\n",
       "  <thead>\n",
       "    <tr style=\"text-align: right;\">\n",
       "      <th></th>\n",
       "      <th>Text</th>\n",
       "      <th>Clean Text</th>\n",
       "      <th>Words</th>\n",
       "      <th>Top Words</th>\n",
       "    </tr>\n",
       "  </thead>\n",
       "  <tbody>\n",
       "    <tr>\n",
       "      <th>0</th>\n",
       "      <td>የዚህ ስብሰባ አጣዳፊነት በእስራኤላውያንም ሆነ በፍልስጤማውያን ላይ የትላ...</td>\n",
       "      <td>NaN</td>\n",
       "      <td>NaN</td>\n",
       "      <td>NaN</td>\n",
       "    </tr>\n",
       "    <tr>\n",
       "      <th>1</th>\n",
       "      <td>ከኤሊምም ተጓዙ፥ የእስራኤልም ልጆች ማኅበር ሁሉ ከግብፅ አገር ከወጡ በኋ...</td>\n",
       "      <td>NaN</td>\n",
       "      <td>NaN</td>\n",
       "      <td>NaN</td>\n",
       "    </tr>\n",
       "    <tr>\n",
       "      <th>2</th>\n",
       "      <td>የመጣጥፉም መዳረሻ ይሄ ነው። \\nነብሷን ይማረው እና ወላጅ እናቴ ከአቅሟ...</td>\n",
       "      <td>NaN</td>\n",
       "      <td>NaN</td>\n",
       "      <td>NaN</td>\n",
       "    </tr>\n",
       "    <tr>\n",
       "      <th>3</th>\n",
       "      <td>የኢትዮጵያ ፌደራላዊ ዲሞክራሲያዊ ሪፐብሊክ ፌደራል ነጋሪት ጋዜጣ\\nሃያ ሁ...</td>\n",
       "      <td>NaN</td>\n",
       "      <td>NaN</td>\n",
       "      <td>NaN</td>\n",
       "    </tr>\n",
       "    <tr>\n",
       "      <th>4</th>\n",
       "      <td>በእግዚአብሔር ፈቃድ የኢየሱስ ክርስቶስ ሐዋርያ ሊሆን የተጠራ ጳውሎስ ወን...</td>\n",
       "      <td>NaN</td>\n",
       "      <td>NaN</td>\n",
       "      <td>NaN</td>\n",
       "    </tr>\n",
       "    <tr>\n",
       "      <th>5</th>\n",
       "      <td>መቅድም\\nይህ “የአፍሪካ አልማናክ” ተብሎ የተሰየመው መጽሐፍ ሰዚሀ ዐይነ...</td>\n",
       "      <td>NaN</td>\n",
       "      <td>NaN</td>\n",
       "      <td>NaN</td>\n",
       "    </tr>\n",
       "  </tbody>\n",
       "</table>\n",
       "</div>"
      ],
      "text/plain": [
       "                                                Text Clean Text Words  \\\n",
       "0  የዚህ ስብሰባ አጣዳፊነት በእስራኤላውያንም ሆነ በፍልስጤማውያን ላይ የትላ...        NaN   NaN   \n",
       "1  ከኤሊምም ተጓዙ፥ የእስራኤልም ልጆች ማኅበር ሁሉ ከግብፅ አገር ከወጡ በኋ...        NaN   NaN   \n",
       "2  የመጣጥፉም መዳረሻ ይሄ ነው። \\nነብሷን ይማረው እና ወላጅ እናቴ ከአቅሟ...        NaN   NaN   \n",
       "3  የኢትዮጵያ ፌደራላዊ ዲሞክራሲያዊ ሪፐብሊክ ፌደራል ነጋሪት ጋዜጣ\\nሃያ ሁ...        NaN   NaN   \n",
       "4  በእግዚአብሔር ፈቃድ የኢየሱስ ክርስቶስ ሐዋርያ ሊሆን የተጠራ ጳውሎስ ወን...        NaN   NaN   \n",
       "5  መቅድም\\nይህ “የአፍሪካ አልማናክ” ተብሎ የተሰየመው መጽሐፍ ሰዚሀ ዐይነ...        NaN   NaN   \n",
       "\n",
       "  Top Words  \n",
       "0       NaN  \n",
       "1       NaN  \n",
       "2       NaN  \n",
       "3       NaN  \n",
       "4       NaN  \n",
       "5       NaN  "
      ]
     },
     "execution_count": 180,
     "metadata": {},
     "output_type": "execute_result"
    }
   ],
   "source": [
    "corpra_df"
   ]
  },
  {
   "cell_type": "code",
   "execution_count": 185,
   "metadata": {},
   "outputs": [],
   "source": [
    "from collections import Counter\n",
    "import re\n",
    "def get_top_words(word_list, num):\n",
    "    \"\"\"\n",
    "    A function to get the top frequent n words in the word list. \n",
    "\n",
    "    Param:\n",
    "    word_list: a list of words from our monolingual data.\n",
    "    num: the number of top words we would like to return.\n",
    "\n",
    "    Return:\n",
    "    A list of tuples with the top n words and their corresponding frequency.\n",
    "    \n",
    "    \"\"\"\n",
    "    counter=Counter(word_list, sorted=True)\n",
    "    return counter.most_common(num)\n"
   ]
  },
  {
   "cell_type": "code",
   "execution_count": 186,
   "metadata": {},
   "outputs": [],
   "source": [
    "def preproc(text):\n",
    "    \"\"\"\n",
    "    A function to remove the new line characther and preprocess our text data.\n",
    "    \n",
    "    Params:\n",
    "    text: the text we want to clean\n",
    "    \n",
    "    Returns:\n",
    "    Cleaned and preprocessed string.\n",
    "\n",
    "    \"\"\"\n",
    "    text= re.sub('\\\\n', \" \", text)\n",
    "    return my_prep.preprocess_str(text)"
   ]
  },
  {
   "cell_type": "code",
   "execution_count": 187,
   "metadata": {},
   "outputs": [],
   "source": [
    "# we will now use the apply function and call the above functions on the appropriate columns in the dataframe. \n",
    "# we start by calling the preproc function on the text we read from our files. \n",
    "\n",
    "corpra_df[\"Clean Text\"]=corpra_df['Text'].apply(lambda text: preproc(text))"
   ]
  },
  {
   "cell_type": "code",
   "execution_count": 188,
   "metadata": {},
   "outputs": [],
   "source": [
    "# next we will convert the strings into individual words. \n",
    "# The split is done based on space. Pass the appropriate demaracation to the split function if your data requries it.\n",
    "corpra_df['Words']=corpra_df['Clean Text'].apply(lambda text: text.split())"
   ]
  },
  {
   "cell_type": "code",
   "execution_count": 189,
   "metadata": {},
   "outputs": [],
   "source": [
    "# we will now call the get_top_words function to get the top words in each of our files. \n",
    "corpra_df['Top Words']=corpra_df['Words'].apply(lambda top_word: get_top_words(top_word, 100))"
   ]
  },
  {
   "cell_type": "code",
   "execution_count": 190,
   "metadata": {},
   "outputs": [
    {
     "data": {
      "text/html": [
       "<div>\n",
       "<style scoped>\n",
       "    .dataframe tbody tr th:only-of-type {\n",
       "        vertical-align: middle;\n",
       "    }\n",
       "\n",
       "    .dataframe tbody tr th {\n",
       "        vertical-align: top;\n",
       "    }\n",
       "\n",
       "    .dataframe thead th {\n",
       "        text-align: right;\n",
       "    }\n",
       "</style>\n",
       "<table border=\"1\" class=\"dataframe\">\n",
       "  <thead>\n",
       "    <tr style=\"text-align: right;\">\n",
       "      <th></th>\n",
       "      <th>Text</th>\n",
       "      <th>Clean Text</th>\n",
       "      <th>Words</th>\n",
       "      <th>Top Words</th>\n",
       "    </tr>\n",
       "  </thead>\n",
       "  <tbody>\n",
       "    <tr>\n",
       "      <th>0</th>\n",
       "      <td>የዚህ ስብሰባ አጣዳፊነት በእስራኤላውያንም ሆነ በፍልስጤማውያን ላይ የትላ...</td>\n",
       "      <td>የዚህ ስብሰባ አጣዳፊነት በእስራኤላውያንም ሆነ በፍልስጤማውያን ላይ የትላ...</td>\n",
       "      <td>[የዚህ, ስብሰባ, አጣዳፊነት, በእስራኤላውያንም, ሆነ, በፍልስጤማውያን,...</td>\n",
       "      <td>[(ላይ, 932), (ነው, 894), (ውስጥ, 860), (ነበር, 666),...</td>\n",
       "    </tr>\n",
       "    <tr>\n",
       "      <th>1</th>\n",
       "      <td>ከኤሊምም ተጓዙ፥ የእስራኤልም ልጆች ማኅበር ሁሉ ከግብፅ አገር ከወጡ በኋ...</td>\n",
       "      <td>ከኤሊምም ተጓዙ የእስራኤልም ልጆች ማኅበር ሁሉ ከግብፅ አገር ከወጡ በኋላ...</td>\n",
       "      <td>[ከኤሊምም, ተጓዙ, የእስራኤልም, ልጆች, ማኅበር, ሁሉ, ከግብፅ, አገር...</td>\n",
       "      <td>[(ወደ, 9064), (ላይ, 9029), (ሁሉ, 8052), (ነው, 7210...</td>\n",
       "    </tr>\n",
       "    <tr>\n",
       "      <th>2</th>\n",
       "      <td>የመጣጥፉም መዳረሻ ይሄ ነው። \\nነብሷን ይማረው እና ወላጅ እናቴ ከአቅሟ...</td>\n",
       "      <td>የመጣጥፉም መዳረሻ ይሄ ነው ነብሷን ይማረው እና ወላጅ እናቴ ከአቅሟ በላ...</td>\n",
       "      <td>[የመጣጥፉም, መዳረሻ, ይሄ, ነው, ነብሷን, ይማረው, እና, ወላጅ, እና...</td>\n",
       "      <td>[(ነው, 14134), (እና, 13474), (ላይ, 9999), (ውስጥ, 5...</td>\n",
       "    </tr>\n",
       "    <tr>\n",
       "      <th>3</th>\n",
       "      <td>የኢትዮጵያ ፌደራላዊ ዲሞክራሲያዊ ሪፐብሊክ ፌደራል ነጋሪት ጋዜጣ\\nሃያ ሁ...</td>\n",
       "      <td>የኢትዮጵያ ፌደራላዊ ዲሞክራሲያዊ ሪፐብሊክ ፌደራል ነጋሪት ጋዜጣ ሃያ ሁለ...</td>\n",
       "      <td>[የኢትዮጵያ, ፌደራላዊ, ዲሞክራሲያዊ, ሪፐብሊክ, ፌደራል, ነጋሪት, ጋዜ...</td>\n",
       "      <td>[(ወይም, 1530), (እና, 1061), (ላይ, 883), (አዋጅ, 791...</td>\n",
       "    </tr>\n",
       "    <tr>\n",
       "      <th>4</th>\n",
       "      <td>በእግዚአብሔር ፈቃድ የኢየሱስ ክርስቶስ ሐዋርያ ሊሆን የተጠራ ጳውሎስ ወን...</td>\n",
       "      <td>በእግዚአብሔር ፈቃድ የኢየሱስ ክርስቶስ ሐዋርያ ሊሆን የተጠራ ጳውሎስ ወን...</td>\n",
       "      <td>[በእግዚአብሔር, ፈቃድ, የኢየሱስ, ክርስቶስ, ሐዋርያ, ሊሆን, የተጠራ,...</td>\n",
       "      <td>[(ወደ, 1316), (ግን, 1194), (ሁሉ, 904), (እንደ, 810)...</td>\n",
       "    </tr>\n",
       "    <tr>\n",
       "      <th>5</th>\n",
       "      <td>መቅድም\\nይህ “የአፍሪካ አልማናክ” ተብሎ የተሰየመው መጽሐፍ ሰዚሀ ዐይነ...</td>\n",
       "      <td>መቅድም ይህ የአፍሪካ አልማናክ ተብሎ የተሰየመው መጽሐፍ ሰዚሀ ዐይነት ሲ...</td>\n",
       "      <td>[መቅድም, ይህ, የአፍሪካ, አልማናክ, ተብሎ, የተሰየመው, መጽሐፍ, ሰዚ...</td>\n",
       "      <td>[(ዓም, 505), (ነው, 283), (ቀን, 227), (ምክር, 197), ...</td>\n",
       "    </tr>\n",
       "  </tbody>\n",
       "</table>\n",
       "</div>"
      ],
      "text/plain": [
       "                                                Text  \\\n",
       "0  የዚህ ስብሰባ አጣዳፊነት በእስራኤላውያንም ሆነ በፍልስጤማውያን ላይ የትላ...   \n",
       "1  ከኤሊምም ተጓዙ፥ የእስራኤልም ልጆች ማኅበር ሁሉ ከግብፅ አገር ከወጡ በኋ...   \n",
       "2  የመጣጥፉም መዳረሻ ይሄ ነው። \\nነብሷን ይማረው እና ወላጅ እናቴ ከአቅሟ...   \n",
       "3  የኢትዮጵያ ፌደራላዊ ዲሞክራሲያዊ ሪፐብሊክ ፌደራል ነጋሪት ጋዜጣ\\nሃያ ሁ...   \n",
       "4  በእግዚአብሔር ፈቃድ የኢየሱስ ክርስቶስ ሐዋርያ ሊሆን የተጠራ ጳውሎስ ወን...   \n",
       "5  መቅድም\\nይህ “የአፍሪካ አልማናክ” ተብሎ የተሰየመው መጽሐፍ ሰዚሀ ዐይነ...   \n",
       "\n",
       "                                          Clean Text  \\\n",
       "0  የዚህ ስብሰባ አጣዳፊነት በእስራኤላውያንም ሆነ በፍልስጤማውያን ላይ የትላ...   \n",
       "1  ከኤሊምም ተጓዙ የእስራኤልም ልጆች ማኅበር ሁሉ ከግብፅ አገር ከወጡ በኋላ...   \n",
       "2  የመጣጥፉም መዳረሻ ይሄ ነው ነብሷን ይማረው እና ወላጅ እናቴ ከአቅሟ በላ...   \n",
       "3  የኢትዮጵያ ፌደራላዊ ዲሞክራሲያዊ ሪፐብሊክ ፌደራል ነጋሪት ጋዜጣ ሃያ ሁለ...   \n",
       "4  በእግዚአብሔር ፈቃድ የኢየሱስ ክርስቶስ ሐዋርያ ሊሆን የተጠራ ጳውሎስ ወን...   \n",
       "5  መቅድም ይህ የአፍሪካ አልማናክ ተብሎ የተሰየመው መጽሐፍ ሰዚሀ ዐይነት ሲ...   \n",
       "\n",
       "                                               Words  \\\n",
       "0  [የዚህ, ስብሰባ, አጣዳፊነት, በእስራኤላውያንም, ሆነ, በፍልስጤማውያን,...   \n",
       "1  [ከኤሊምም, ተጓዙ, የእስራኤልም, ልጆች, ማኅበር, ሁሉ, ከግብፅ, አገር...   \n",
       "2  [የመጣጥፉም, መዳረሻ, ይሄ, ነው, ነብሷን, ይማረው, እና, ወላጅ, እና...   \n",
       "3  [የኢትዮጵያ, ፌደራላዊ, ዲሞክራሲያዊ, ሪፐብሊክ, ፌደራል, ነጋሪት, ጋዜ...   \n",
       "4  [በእግዚአብሔር, ፈቃድ, የኢየሱስ, ክርስቶስ, ሐዋርያ, ሊሆን, የተጠራ,...   \n",
       "5  [መቅድም, ይህ, የአፍሪካ, አልማናክ, ተብሎ, የተሰየመው, መጽሐፍ, ሰዚ...   \n",
       "\n",
       "                                           Top Words  \n",
       "0  [(ላይ, 932), (ነው, 894), (ውስጥ, 860), (ነበር, 666),...  \n",
       "1  [(ወደ, 9064), (ላይ, 9029), (ሁሉ, 8052), (ነው, 7210...  \n",
       "2  [(ነው, 14134), (እና, 13474), (ላይ, 9999), (ውስጥ, 5...  \n",
       "3  [(ወይም, 1530), (እና, 1061), (ላይ, 883), (አዋጅ, 791...  \n",
       "4  [(ወደ, 1316), (ግን, 1194), (ሁሉ, 904), (እንደ, 810)...  \n",
       "5  [(ዓም, 505), (ነው, 283), (ቀን, 227), (ምክር, 197), ...  "
      ]
     },
     "execution_count": 190,
     "metadata": {},
     "output_type": "execute_result"
    }
   ],
   "source": [
    "corpra_df"
   ]
  },
  {
   "cell_type": "markdown",
   "metadata": {},
   "source": [
    "### Visualizing the top words in each file"
   ]
  },
  {
   "cell_type": "code",
   "execution_count": 191,
   "metadata": {},
   "outputs": [],
   "source": [
    "import matplotlib.pyplot as plt"
   ]
  },
  {
   "cell_type": "code",
   "execution_count": 194,
   "metadata": {},
   "outputs": [],
   "source": [
    "from matplotlib import font_manager\n",
    "# if matplotlib supports your languges' font, comment out the following section.\n",
    "# if it does not support your font, change the font path to the path of your font and change the name in the FontEntry function.\n",
    "\n",
    "font_path= '/home/hellina/Downloads/AbyssinicaSIL-Regular.ttf'\n",
    "font_entry= font_manager.FontEntry(fname=font_path, name='Abyssinica-SIL')\n",
    "font_manager.fontManager.ttflist.insert(0, font_entry)\n"
   ]
  },
  {
   "cell_type": "code",
   "execution_count": 195,
   "metadata": {},
   "outputs": [],
   "source": [
    "def visualize_top_words(top_words, num=10):\n",
    "    \"\"\"\n",
    "    Bar plots of the top words in each of the text files.\n",
    "\n",
    "    Params:\n",
    "    top_words: a list of top words we would like to visualize. It is a list of tuples of the top words and their frequency. \n",
    "    num: the number of top words we are interested in visualizing from the list.\n",
    "    \"\"\"\n",
    "    x=[ i[0] for i in top_words[:num]]\n",
    "    y=[j[1] for j in top_words[:num]]\n",
    "\n",
    "    plt.bar(x,y)\n",
    "    plt.rcParams['font.family']= font_entry.name # comment this out if your font is supported by matplotlib\n",
    "    plt.show()"
   ]
  },
  {
   "cell_type": "code",
   "execution_count": 196,
   "metadata": {},
   "outputs": [
    {
     "data": {
      "image/png": "[encoded data removed]",
      "text/plain": [
       "<Figure size 432x288 with 1 Axes>"
      ]
     },
     "metadata": {
      "needs_background": "light"
     },
     "output_type": "display_data"
    }
   ],
   "source": [
    "visualize_top_words(corpra_df['Top Words'][0])"
   ]
  },
  {
   "cell_type": "code",
   "execution_count": 197,
   "metadata": {},
   "outputs": [
    {
     "data": {
      "image/png": "[encoded data removed]",
      "text/plain": [
       "<Figure size 432x288 with 1 Axes>"
      ]
     },
     "metadata": {
      "needs_background": "light"
     },
     "output_type": "display_data"
    }
   ],
   "source": [
    "visualize_top_words(corpra_df['Top Words'][1], 10)"
   ]
  },
  {
   "cell_type": "markdown",
   "metadata": {},
   "source": [
    "## TF-IDF"
   ]
  },
  {
   "cell_type": "code",
   "execution_count": 198,
   "metadata": {},
   "outputs": [],
   "source": [
    "import pandas as pd\n",
    "import numpy as np\n",
    "from sklearn.feature_extraction.text import CountVectorizer, TfidfVectorizer"
   ]
  },
  {
   "cell_type": "code",
   "execution_count": 199,
   "metadata": {},
   "outputs": [],
   "source": [
    "def tfidf_vectorize(preprocessor):\n",
    "    \"\"\"\n",
    "    Use Sklearn tfidf vectorizer to transform the text to TF-IDF vectorized format. \n",
    "    \n",
    "    Param:\n",
    "    preprocessor: the preprocessor we are using. \n",
    "\n",
    "    Returns:\n",
    "    The vocabulary.\n",
    "    A list of stop words, if any, that qualify under sklearn stopword rules.\n",
    "    The IDF values of each of the words. \n",
    "\n",
    "    \"\"\"\n",
    "    vectorizer=TfidfVectorizer(preprocessor=preprocessor)\n",
    "    vectorizer.fit_transform(corpra_df['Clean Text'])\n",
    "\n",
    "    return vectorizer.vocabulary_, vectorizer.stop_words_, vectorizer.idf_"
   ]
  },
  {
   "cell_type": "code",
   "execution_count": 200,
   "metadata": {},
   "outputs": [],
   "source": [
    "vocab, stop_list, idf= tfidf_vectorize(preproc)"
   ]
  },
  {
   "cell_type": "code",
   "execution_count": 201,
   "metadata": {},
   "outputs": [
    {
     "name": "stdout",
     "output_type": "stream",
     "text": [
      "Total number of words in the vocabulary is:  202604\n"
     ]
    }
   ],
   "source": [
    "print('Total number of words in the vocabulary is: ', len(vocab))"
   ]
  },
  {
   "cell_type": "code",
   "execution_count": 202,
   "metadata": {},
   "outputs": [
    {
     "data": {
      "text/plain": [
       "561"
      ]
     },
     "execution_count": 202,
     "metadata": {},
     "output_type": "execute_result"
    }
   ],
   "source": [
    "# this will give us the indices of words that are found in all of the files. \n",
    "indexes=[i for i, id in enumerate(idf) if id==1]\n",
    "stop_list=[word for word, index in vocab.items() if index in indexes]\n",
    "len(stop_list)"
   ]
  },
  {
   "cell_type": "code",
   "execution_count": 203,
   "metadata": {},
   "outputs": [],
   "source": [
    "def match_top_words(stop_list, top_words):\n",
    "    \"\"\"\n",
    "    From the list of words that exist in each of the documents, we can further filter our list by selecting words that are in the top words list of the documents.\n",
    "    \n",
    "    Params:\n",
    "    stop_list: list of words found in every document.\n",
    "    top_words: Series object with list of tuples of top words and their frequency for each document.\n",
    "\n",
    "    Returns:\n",
    "    stop_words: words that are found in all the documents and in the top words.\n",
    "    \"\"\"\n",
    "    top_word=[]\n",
    "    for top in top_words:\n",
    "        top_word.append([x[0] for x in top])\n",
    "    top_word=[sub  for main in top_word for sub in main ]\n",
    "    stop_words=[k for k in set(stop_list).intersection(set(top_word))]\n",
    "    return stop_words"
   ]
  },
  {
   "cell_type": "code",
   "execution_count": 204,
   "metadata": {},
   "outputs": [],
   "source": [
    "stop_words=match_top_words(stop_list, corpra_df['Top Words'])"
   ]
  },
  {
   "cell_type": "code",
   "execution_count": 205,
   "metadata": {},
   "outputs": [],
   "source": [
    "def save(stop_list, stop_words):\n",
    "    \"\"\"\n",
    "    Saves the stop_list and the filtered stop_words.\n",
    "\n",
    "    Params:\n",
    "    stop_list: list of words in every document.\n",
    "    stop_words: list of words in every document as well as top words list.\n",
    "    \"\"\"\n",
    "    with open('stop_list_all_files.txt', 'w') as file:\n",
    "        file.write('\\n'.join(stop_list)) \n",
    "        file.close()\n",
    "    with open('stop_list_top_word.txt', 'w') as file:\n",
    "        file.write('\\n'.join(stop_words))\n",
    "        file.close()"
   ]
  },
  {
   "cell_type": "code",
   "execution_count": 206,
   "metadata": {},
   "outputs": [],
   "source": [
    "save(stop_list, stop_words)"
   ]
  },
  {
   "cell_type": "code",
   "execution_count": 207,
   "metadata": {},
   "outputs": [],
   "source": [
    "def save_top_words(top_words):\n",
    "    \"\"\"\n",
    "    Save individual documents most frequent words if necessary. Can be used as domain specific stop_words.append\n",
    "\n",
    "    Params:\n",
    "    top_words: list of tupels of top words in a document along with their frequency. \n",
    "    \"\"\"\n",
    "    top_word=[x[0] for x in top_words]\n",
    "    with open('top_words.txt', 'w') as file:\n",
    "        file.write('\\n'.join(top_word))\n",
    "        file.close"
   ]
  },
  {
   "cell_type": "code",
   "execution_count": 208,
   "metadata": {},
   "outputs": [],
   "source": [
    "save_top_words(corpra_df['Top Words'][0])"
   ]
  },
  {
   "cell_type": "code",
   "execution_count": 209,
   "metadata": {},
   "outputs": [],
   "source": [
    "# compare with existing stopword list\n",
    "def compare(path, stop_list):\n",
    "    \"\"\"\n",
    "    Compare the stop words we have curated with an existing list.append\n",
    "\n",
    "    Params:\n",
    "    path: path to the file with a list of stop words.\n",
    "\n",
    "    Returns:\n",
    "    common_words: stop words found in common with the ones we have curated.\n",
    "    diff_words: stop words that are only found in the list we are trying to compare with. \n",
    "    \"\"\"\n",
    "    stop_compare=open(path, 'r').read()\n",
    "    stop_compare=set(preproc(stop_compare).split())\n",
    "    print('Number of stop words in list: ' ,len(stop_compare))\n",
    "    print('Number of stop words identified: ' ,len(stop_list))\n",
    "    common_words = stop_compare.intersection(set(stop_list))\n",
    "    diff_words=  stop_compare - set(stop_list)\n",
    "    print('There are ', len(common_words), ' common stopwords')\n",
    "    print('There are ', len(diff_words), ' non common words')\n",
    "    return common_words, diff_words "
   ]
  },
  {
   "cell_type": "code",
   "execution_count": 211,
   "metadata": {},
   "outputs": [
    {
     "name": "stdout",
     "output_type": "stream",
     "text": [
      "Number of stop words in list:  302\n",
      "Number of stop words identified:  143\n",
      "There are  70  common stopwords\n",
      "There are  232  non common words\n"
     ]
    }
   ],
   "source": [
    "comm, diff =compare('stopwords.txt', stop_words)"
   ]
  },
  {
   "cell_type": "code",
   "execution_count": 212,
   "metadata": {},
   "outputs": [
    {
     "name": "stdout",
     "output_type": "stream",
     "text": [
      "{'ምን', 'ሆኖ', 'አሁን', 'ብቻ', 'እኔ', 'ሆኑ', 'ቢሆን', 'ቦታ', 'ነገሮች', 'ሆኖም', 'ሌላ', 'ላይ', 'ብሎ', 'ሰው', 'ከሆነ', 'ይህ', 'ይህን', 'በላይ', 'ሰዎች', 'ይሁን', 'አንድ', 'ቁጥር', 'ከተማ', 'ወይም', 'ነው', 'ቀን', 'ማድረግ', 'ጊዜ', 'መልካም', 'ዋና', 'ፊት', 'ሲሉ', 'ምክንያት', 'ልጅ', 'ሲል', 'ድረስ', 'ይሆናል', 'እንጂ', 'ያለ', 'ብዙ', 'አይደለም', 'ጉዳይ', 'ደግሞ', 'ስለ', 'ሁሉ', 'ምንም', 'ቤት', 'ይችላል', 'ብዛት', 'እንደ', 'እንዲሁም', 'ክፍል', 'መካከል', 'በኋላ', 'ናቸው', 'ሆነ', 'ግን', 'ጋር', 'ወደ', 'ማለት', 'በዚህ', 'ሲሆን', 'እስከ', 'በፊት', 'ስራ', 'ያለው', 'ነገር', 'ሌሎች', 'ውስጥ', 'ስም'}\n"
     ]
    }
   ],
   "source": [
    "print(comm)"
   ]
  },
  {
   "cell_type": "code",
   "execution_count": null,
   "metadata": {},
   "outputs": [],
   "source": []
  }
 ],
 "metadata": {
  "interpreter": {
   "hash": "3e50f285cda5c82fceacb52d49d584f85b5af56fdb773c75edf23b3aee51f9e9"
  },
  "kernelspec": {
   "display_name": "Python 3.9.7 ('base')",
   "language": "python",
   "name": "python3"
  },
  "language_info": {
   "codemirror_mode": {
    "name": "ipython",
    "version": 3
   },
   "file_extension": ".py",
   "mimetype": "text/x-python",
   "name": "python",
   "nbconvert_exporter": "python",
   "pygments_lexer": "ipython3",
   "version": "3.9.7"
  },
  "orig_nbformat": 4
 },
 "nbformat": 4,
 "nbformat_minor": 2
}
